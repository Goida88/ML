{
  "cells": [
    {
      "cell_type": "markdown",
      "metadata": {
        "id": "sErcjeV2zU5I"
      },
      "source": [
        "# **Лабораторная работа №1**\n",
        "\n",
        "## **Выполнил:**\n",
        "Кузнецов Мирон\n"
      ]
    },
    {
      "cell_type": "markdown",
      "metadata": {
        "id": "cXTzO5HV18Yr"
      },
      "source": [
        "# 1. Numpy\n",
        "\n",
        "Необходимо использовать функции и методы библиотеки numpy. Использовать циклы, генераторы списков **запрещено**."
      ]
    },
    {
      "cell_type": "code",
      "execution_count": null,
      "metadata": {
        "id": "g-ZPYxhUjQgR"
      },
      "outputs": [],
      "source": [
        "import numpy as np"
      ]
    },
    {
      "cell_type": "markdown",
      "metadata": {
        "id": "AmUMh0xo32nb"
      },
      "source": [
        "1. Создайте матрицу $3 × 3 $ со значениями от 0 до 8."
      ]
    },
    {
      "cell_type": "code",
      "execution_count": null,
      "metadata": {
        "id": "34WhZifT13Jn",
        "colab": {
          "base_uri": "https://localhost:8080/"
        },
        "outputId": "7c11adcf-6cb7-4ff8-ea4c-8dca00b37fa4"
      },
      "outputs": [
        {
          "output_type": "stream",
          "name": "stdout",
          "text": [
            "[[0 1 2]\n",
            " [3 4 5]\n",
            " [6 7 8]]\n"
          ]
        }
      ],
      "source": [
        "import numpy as np\n",
        "\n",
        "matrix = np.arange(9).reshape(3, 3)\n",
        "print(matrix)\n"
      ]
    },
    {
      "cell_type": "markdown",
      "metadata": {
        "id": "1jSpAGnP12Vn"
      },
      "source": [
        "2. Создайте матрицу шахматной доски  $8 × 8 $, заполненную 'B' и 'W', используя функцию tile."
      ]
    },
    {
      "cell_type": "code",
      "execution_count": null,
      "metadata": {
        "id": "OKjYdYlB32JN",
        "colab": {
          "base_uri": "https://localhost:8080/"
        },
        "outputId": "b8c9d96d-9458-4bfd-a473-f3be009cee51"
      },
      "outputs": [
        {
          "output_type": "stream",
          "name": "stdout",
          "text": [
            "[['B' 'W' 'B' 'W' 'B' 'W' 'B' 'W']\n",
            " ['W' 'B' 'W' 'B' 'W' 'B' 'W' 'B']\n",
            " ['B' 'W' 'B' 'W' 'B' 'W' 'B' 'W']\n",
            " ['W' 'B' 'W' 'B' 'W' 'B' 'W' 'B']\n",
            " ['B' 'W' 'B' 'W' 'B' 'W' 'B' 'W']\n",
            " ['W' 'B' 'W' 'B' 'W' 'B' 'W' 'B']\n",
            " ['B' 'W' 'B' 'W' 'B' 'W' 'B' 'W']\n",
            " ['W' 'B' 'W' 'B' 'W' 'B' 'W' 'B']]\n"
          ]
        }
      ],
      "source": [
        "import numpy as np\n",
        "\n",
        "# Создаем шахматный шаблон 2x2\n",
        "pattern = np.array([['B', 'W'], ['W', 'B']])\n",
        "\n",
        "# Повторяем шаблон до размера 8x8\n",
        "chess_board = np.tile(pattern, (4, 4))\n",
        "print(chess_board)\n"
      ]
    },
    {
      "cell_type": "markdown",
      "metadata": {
        "id": "_k7LOsPh4Feo"
      },
      "source": [
        "3. Найти индексы ненулевых элементов в произвольном массиве, например: $ [1,2,0,0,4,0,0,4,6,4,0] $\n"
      ]
    },
    {
      "cell_type": "code",
      "execution_count": null,
      "metadata": {
        "id": "BUJdZFGn4P3k",
        "colab": {
          "base_uri": "https://localhost:8080/"
        },
        "outputId": "47745582-5d15-4ef5-887e-27fa184f57d8"
      },
      "outputs": [
        {
          "output_type": "stream",
          "name": "stdout",
          "text": [
            "[0 1 4 7 8 9]\n"
          ]
        }
      ],
      "source": [
        "import numpy as np\n",
        "\n",
        "# Исходный массив\n",
        "arr = np.array([1, 2, 0, 0, 4, 0, 0, 4, 6, 4, 0])\n",
        "\n",
        "# Нахождение индексов ненулевых элементов\n",
        "nonzero_indices = np.nonzero(arr)\n",
        "\n",
        "# Вывод результата\n",
        "print(nonzero_indices[0])\n"
      ]
    },
    {
      "cell_type": "markdown",
      "metadata": {
        "id": "ZJWS2wO-3xfn"
      },
      "source": [
        "4. Создайте двумерный массив с единицами на границах и нулями внутри, например:\n",
        "\n",
        "$ 1 1 1 1 1 $\n",
        "\n",
        "$ 1 0 0 0 1 $\n",
        "\n",
        "$ 1 0 0 0 1 $\n",
        "\n",
        "$ 1 1 1 1 1 $\n"
      ]
    },
    {
      "cell_type": "code",
      "execution_count": null,
      "metadata": {
        "id": "dGfAw9ii5fhJ",
        "colab": {
          "base_uri": "https://localhost:8080/"
        },
        "outputId": "3ee0a742-d974-47c7-c1ab-daecf2e87c50"
      },
      "outputs": [
        {
          "output_type": "stream",
          "name": "stdout",
          "text": [
            "[[1 1 1 1 1]\n",
            " [1 0 0 0 1]\n",
            " [1 0 0 0 1]\n",
            " [1 1 1 1 1]]\n"
          ]
        }
      ],
      "source": [
        "import numpy as np\n",
        "\n",
        "# Размер матрицы\n",
        "rows, cols = 4, 5\n",
        "\n",
        "# Создание массива из единиц\n",
        "array = np.ones((rows, cols), dtype=int)\n",
        "\n",
        "# Заполнение внутренней части нулями\n",
        "array[1:-1, 1:-1] = 0\n",
        "\n",
        "# Вывод результата\n",
        "print(array)\n"
      ]
    },
    {
      "cell_type": "markdown",
      "metadata": {
        "id": "L8m6wERB4m7_"
      },
      "source": [
        "5. Создайте случайный вектор размером 15 и замените максимальное значение на $NaN$.\n"
      ]
    },
    {
      "cell_type": "code",
      "execution_count": null,
      "metadata": {
        "id": "-orpyoP14mKS",
        "colab": {
          "base_uri": "https://localhost:8080/"
        },
        "outputId": "8336000a-f516-4b81-b1fb-3e9f2debb9d4"
      },
      "outputs": [
        {
          "output_type": "stream",
          "name": "stdout",
          "text": [
            "[0.32310853 0.26270579 0.33437368 0.44299454 0.39854928 0.6383197\n",
            " 0.46797958 0.00386754 0.76386755        nan 0.81022341 0.67206076\n",
            " 0.74322223 0.28436705 0.70522393]\n"
          ]
        }
      ],
      "source": [
        "import numpy as np\n",
        "\n",
        "# Создаем случайный вектор размером 15\n",
        "vector = np.random.rand(15)\n",
        "\n",
        "# Находим индекс максимального значения\n",
        "max_index = np.argmax(vector)\n",
        "\n",
        "# Заменяем максимальное значение на NaN\n",
        "vector[max_index] = np.nan\n",
        "\n",
        "# Выводим результат\n",
        "print(vector)\n"
      ]
    },
    {
      "cell_type": "markdown",
      "metadata": {
        "id": "V5SVMkLv4QOl"
      },
      "source": [
        "6. Рассмотрим массив размерности $(6, 7, 8)$. Каков индекс $(i,j,k)$ 100-го элемента?"
      ]
    },
    {
      "cell_type": "code",
      "execution_count": null,
      "metadata": {
        "id": "Io3LqADB4oNd",
        "colab": {
          "base_uri": "https://localhost:8080/"
        },
        "outputId": "1ba4d88d-42de-4970-e55e-a9abc820933a"
      },
      "outputs": [
        {
          "output_type": "stream",
          "name": "stdout",
          "text": [
            "Индексы (i, j, k) для 100-го элемента: (1, 5, 3)\n"
          ]
        }
      ],
      "source": [
        "import numpy as np\n",
        "\n",
        "# Размерность массива\n",
        "shape = (6, 7, 8)\n",
        "\n",
        "# Порядковый номер элемента (начиная с 0)\n",
        "element_index = 99  # 100-й элемент (нумерация с 0)\n",
        "\n",
        "# Определяем индексы (i, j, k)\n",
        "indices = np.unravel_index(element_index, shape)\n",
        "\n",
        "# Вывод результата\n",
        "print(f\"Индексы (i, j, k) для 100-го элемента: {indices}\")\n"
      ]
    },
    {
      "cell_type": "markdown",
      "metadata": {
        "id": "vTEGupeC4bmb"
      },
      "source": [
        "7. Рассмотрим случайную матрицу  $15 × 2 $, представляющую декартовы координаты, преобразуйте их в полярные координаты."
      ]
    },
    {
      "cell_type": "code",
      "execution_count": null,
      "metadata": {
        "id": "wJggfH9L4nZ_",
        "colab": {
          "base_uri": "https://localhost:8080/"
        },
        "outputId": "678dc000-1e8e-4fb2-f847-b8334560c749"
      },
      "outputs": [
        {
          "output_type": "stream",
          "name": "stdout",
          "text": [
            "Декартовы координаты:\n",
            "[[0.77373023 0.6622542 ]\n",
            " [0.91151307 0.40293651]\n",
            " [0.36622488 0.72689346]\n",
            " [0.38105372 0.79283601]\n",
            " [0.5952432  0.65061104]\n",
            " [0.41666065 0.17835004]\n",
            " [0.29091472 0.1997439 ]\n",
            " [0.87708264 0.55666826]\n",
            " [0.52605003 0.36308804]\n",
            " [0.38463369 0.61067342]\n",
            " [0.04902347 0.43762743]\n",
            " [0.81739488 0.71173705]\n",
            " [0.72105679 0.39479346]\n",
            " [0.24840027 0.49884878]\n",
            " [0.35329744 0.85887849]]\n",
            "\n",
            "Полярные координаты:\n",
            "[[1.01844936 0.70792316]\n",
            " [0.99660118 0.41622506]\n",
            " [0.81393781 1.10409583]\n",
            " [0.87965384 1.12277167]\n",
            " [0.88182152 0.82981061]\n",
            " [0.45322713 0.40444803]\n",
            " [0.35288666 0.60168029]\n",
            " [1.03882314 0.56553113]\n",
            " [0.6391882  0.60412916]\n",
            " [0.72170984 1.00871575]\n",
            " [0.4403647  1.45924038]\n",
            " [1.08383764 0.7164112 ]\n",
            " [0.82206129 0.50093766]\n",
            " [0.55727265 1.10879244]\n",
            " [0.92870412 1.18054614]]\n"
          ]
        }
      ],
      "source": [
        "import numpy as np\n",
        "\n",
        "# Генерируем случайную матрицу 15 × 2\n",
        "cartesian_coords = np.random.rand(15, 2)\n",
        "\n",
        "# Декартовы координаты\n",
        "x = cartesian_coords[:, 0]\n",
        "y = cartesian_coords[:, 1]\n",
        "\n",
        "# Вычисляем полярные координаты\n",
        "r = np.sqrt(x**2 + y**2)\n",
        "theta = np.arctan2(y, x)\n",
        "\n",
        "# Объединяем r и theta в одну матрицу\n",
        "polar_coords = np.column_stack((r, theta))\n",
        "\n",
        "# Вывод\n",
        "print(\"Декартовы координаты:\")\n",
        "print(cartesian_coords)\n",
        "print(\"\\nПолярные координаты:\")\n",
        "print(polar_coords)\n"
      ]
    },
    {
      "cell_type": "markdown",
      "metadata": {
        "id": "Y6QOvFAE5Rdo"
      },
      "source": [
        "8. По двум массивам $x$ и $y$ постройте матрицу Коши $C$\n",
        " $(C_{ij} =\\frac{1}{x_i - y_j})$"
      ]
    },
    {
      "cell_type": "code",
      "execution_count": null,
      "metadata": {
        "id": "VrMhqaTg5Rvv",
        "colab": {
          "base_uri": "https://localhost:8080/"
        },
        "outputId": "afd24f59-c228-46fe-da61-6db7f6d38afa"
      },
      "outputs": [
        {
          "output_type": "stream",
          "name": "stdout",
          "text": [
            "Матрица Коши:\n",
            "[[-0.33333333 -0.25       -0.2       ]\n",
            " [-0.5        -0.33333333 -0.25      ]\n",
            " [-1.         -0.5        -0.33333333]]\n"
          ]
        }
      ],
      "source": [
        "import numpy as np\n",
        "\n",
        "# Пример массивов x и y\n",
        "x = np.array([1, 2, 3])\n",
        "y = np.array([4, 5, 6])\n",
        "\n",
        "# Вычисляем матрицу Коши\n",
        "C = 1.0 / (x[:, None] - y[None, :])\n",
        "\n",
        "# Вывод\n",
        "print(\"Матрица Коши:\")\n",
        "print(C)\n"
      ]
    },
    {
      "cell_type": "markdown",
      "metadata": {
        "id": "clAXzbii4wA3"
      },
      "source": [
        "9. Рассмотрим матрицу $10 × 3 $, извлеките строки с неравными значениями (например, $[2,2,3]$)."
      ]
    },
    {
      "cell_type": "code",
      "execution_count": null,
      "metadata": {
        "id": "97jD43Gl4wbx",
        "colab": {
          "base_uri": "https://localhost:8080/"
        },
        "outputId": "7e4fd1c8-f3f4-4e74-b0e4-2f4109f540fa"
      },
      "outputs": [
        {
          "output_type": "stream",
          "name": "stdout",
          "text": [
            "Исходная матрица:\n",
            "[[3 0 4]\n",
            " [0 0 0]\n",
            " [0 3 2]\n",
            " [3 4 1]\n",
            " [3 0 2]\n",
            " [3 2 3]\n",
            " [4 1 3]\n",
            " [3 0 4]\n",
            " [1 4 4]\n",
            " [4 1 2]]\n",
            "\n",
            "Строки с неравными значениями:\n",
            "[[3 0 4]\n",
            " [0 3 2]\n",
            " [3 4 1]\n",
            " [3 0 2]\n",
            " [3 2 3]\n",
            " [4 1 3]\n",
            " [3 0 4]\n",
            " [1 4 4]\n",
            " [4 1 2]]\n"
          ]
        }
      ],
      "source": [
        "import numpy as np\n",
        "\n",
        "# Создаем случайную матрицу 10x3\n",
        "matrix = np.random.randint(0, 5, (10, 3))\n",
        "\n",
        "# Проверяем строки на уникальность элементов\n",
        "mask = np.apply_along_axis(lambda row: len(np.unique(row)) > 1, axis=1, arr=matrix)\n",
        "\n",
        "# Извлекаем строки с неравными значениями\n",
        "filtered_rows = matrix[mask]\n",
        "\n",
        "# Вывод результатов\n",
        "print(\"Исходная матрица:\")\n",
        "print(matrix)\n",
        "print(\"\\nСтроки с неравными значениями:\")\n",
        "print(filtered_rows)\n"
      ]
    },
    {
      "cell_type": "markdown",
      "metadata": {
        "id": "3dVmnyBLxuUP"
      },
      "source": [
        "10. Извлеките уникальные строки из двумерного массива.\n"
      ]
    },
    {
      "cell_type": "code",
      "execution_count": null,
      "metadata": {
        "id": "yWdTK_orxtx0",
        "colab": {
          "base_uri": "https://localhost:8080/"
        },
        "outputId": "fabe4840-54be-4066-c7b0-8b6e97a6a23b"
      },
      "outputs": [
        {
          "output_type": "stream",
          "name": "stdout",
          "text": [
            "Исходный массив:\n",
            "[[1 3 1]\n",
            " [0 2 0]\n",
            " [4 0 1]\n",
            " [2 2 4]\n",
            " [4 2 2]\n",
            " [3 1 0]\n",
            " [2 3 3]\n",
            " [0 1 4]\n",
            " [3 0 1]\n",
            " [1 4 0]]\n",
            "\n",
            "Уникальные строки:\n",
            "[[0 1 4]\n",
            " [0 2 0]\n",
            " [1 3 1]\n",
            " [1 4 0]\n",
            " [2 2 4]\n",
            " [2 3 3]\n",
            " [3 0 1]\n",
            " [3 1 0]\n",
            " [4 0 1]\n",
            " [4 2 2]]\n"
          ]
        }
      ],
      "source": [
        "import numpy as np\n",
        "\n",
        "# Создаем случайный двумерный массив\n",
        "array = np.random.randint(0, 5, (10, 3))\n",
        "\n",
        "# Извлекаем уникальные строки\n",
        "unique_rows = np.unique(array, axis=0)\n",
        "\n",
        "# Вывод результатов\n",
        "print(\"Исходный массив:\")\n",
        "print(array)\n",
        "print(\"\\nУникальные строки:\")\n",
        "print(unique_rows)\n"
      ]
    },
    {
      "cell_type": "markdown",
      "metadata": {
        "id": "ehaTVnKIyufu"
      },
      "source": [
        "# 2. Pandas\n",
        "\n",
        "# Найдите ответы на вопросы с помощью предложенного датасета:"
      ]
    },
    {
      "cell_type": "markdown",
      "metadata": {
        "id": "h7NfRLCpFec1"
      },
      "source": [
        "Файл с датасетом - `olympics_dataset.csv`"
      ]
    },
    {
      "cell_type": "code",
      "execution_count": 1,
      "metadata": {
        "id": "5fC-SaHGjQgV"
      },
      "outputs": [],
      "source": [
        "import pandas as pd"
      ]
    },
    {
      "cell_type": "code",
      "execution_count": 3,
      "metadata": {
        "id": "dm3XnENEjQgV",
        "colab": {
          "base_uri": "https://localhost:8080/",
          "height": 206
        },
        "outputId": "ff6b5e18-450e-401f-e516-05c39ec96e50"
      },
      "outputs": [
        {
          "output_type": "execute_result",
          "data": {
            "text/plain": [
              "   player_id                   Name Sex            Team  NOC  Year  Season  \\\n",
              "0          0              A Dijiang   M           China  CHN  1992  Summer   \n",
              "1          1               A Lamusi   M           China  CHN  2012  Summer   \n",
              "2          2            Gunnar Aaby   M         Denmark  DEN  1920  Summer   \n",
              "3          3            Edgar Aabye   M  Denmark/Sweden  DEN  1900  Summer   \n",
              "4         26  Cornelia (-strannood)   F     Netherlands  NED  1932  Summer   \n",
              "\n",
              "          City       Sport                         Event     Medal  \n",
              "0    Barcelona  Basketball   Basketball Men's Basketball  No medal  \n",
              "1       London        Judo  Judo Men's Extra-Lightweight  No medal  \n",
              "2    Antwerpen    Football       Football Men's Football  No medal  \n",
              "3        Paris  Tug-Of-War   Tug-Of-War Men's Tug-Of-War      Gold  \n",
              "4  Los Angeles   Athletics  Athletics Women's 100 metres  No medal  "
            ],
            "text/html": [
              "\n",
              "  <div id=\"df-e5953e37-e4db-4e66-acf6-b4650bfb25b9\" class=\"colab-df-container\">\n",
              "    <div>\n",
              "<style scoped>\n",
              "    .dataframe tbody tr th:only-of-type {\n",
              "        vertical-align: middle;\n",
              "    }\n",
              "\n",
              "    .dataframe tbody tr th {\n",
              "        vertical-align: top;\n",
              "    }\n",
              "\n",
              "    .dataframe thead th {\n",
              "        text-align: right;\n",
              "    }\n",
              "</style>\n",
              "<table border=\"1\" class=\"dataframe\">\n",
              "  <thead>\n",
              "    <tr style=\"text-align: right;\">\n",
              "      <th></th>\n",
              "      <th>player_id</th>\n",
              "      <th>Name</th>\n",
              "      <th>Sex</th>\n",
              "      <th>Team</th>\n",
              "      <th>NOC</th>\n",
              "      <th>Year</th>\n",
              "      <th>Season</th>\n",
              "      <th>City</th>\n",
              "      <th>Sport</th>\n",
              "      <th>Event</th>\n",
              "      <th>Medal</th>\n",
              "    </tr>\n",
              "  </thead>\n",
              "  <tbody>\n",
              "    <tr>\n",
              "      <th>0</th>\n",
              "      <td>0</td>\n",
              "      <td>A Dijiang</td>\n",
              "      <td>M</td>\n",
              "      <td>China</td>\n",
              "      <td>CHN</td>\n",
              "      <td>1992</td>\n",
              "      <td>Summer</td>\n",
              "      <td>Barcelona</td>\n",
              "      <td>Basketball</td>\n",
              "      <td>Basketball Men's Basketball</td>\n",
              "      <td>No medal</td>\n",
              "    </tr>\n",
              "    <tr>\n",
              "      <th>1</th>\n",
              "      <td>1</td>\n",
              "      <td>A Lamusi</td>\n",
              "      <td>M</td>\n",
              "      <td>China</td>\n",
              "      <td>CHN</td>\n",
              "      <td>2012</td>\n",
              "      <td>Summer</td>\n",
              "      <td>London</td>\n",
              "      <td>Judo</td>\n",
              "      <td>Judo Men's Extra-Lightweight</td>\n",
              "      <td>No medal</td>\n",
              "    </tr>\n",
              "    <tr>\n",
              "      <th>2</th>\n",
              "      <td>2</td>\n",
              "      <td>Gunnar Aaby</td>\n",
              "      <td>M</td>\n",
              "      <td>Denmark</td>\n",
              "      <td>DEN</td>\n",
              "      <td>1920</td>\n",
              "      <td>Summer</td>\n",
              "      <td>Antwerpen</td>\n",
              "      <td>Football</td>\n",
              "      <td>Football Men's Football</td>\n",
              "      <td>No medal</td>\n",
              "    </tr>\n",
              "    <tr>\n",
              "      <th>3</th>\n",
              "      <td>3</td>\n",
              "      <td>Edgar Aabye</td>\n",
              "      <td>M</td>\n",
              "      <td>Denmark/Sweden</td>\n",
              "      <td>DEN</td>\n",
              "      <td>1900</td>\n",
              "      <td>Summer</td>\n",
              "      <td>Paris</td>\n",
              "      <td>Tug-Of-War</td>\n",
              "      <td>Tug-Of-War Men's Tug-Of-War</td>\n",
              "      <td>Gold</td>\n",
              "    </tr>\n",
              "    <tr>\n",
              "      <th>4</th>\n",
              "      <td>26</td>\n",
              "      <td>Cornelia (-strannood)</td>\n",
              "      <td>F</td>\n",
              "      <td>Netherlands</td>\n",
              "      <td>NED</td>\n",
              "      <td>1932</td>\n",
              "      <td>Summer</td>\n",
              "      <td>Los Angeles</td>\n",
              "      <td>Athletics</td>\n",
              "      <td>Athletics Women's 100 metres</td>\n",
              "      <td>No medal</td>\n",
              "    </tr>\n",
              "  </tbody>\n",
              "</table>\n",
              "</div>\n",
              "    <div class=\"colab-df-buttons\">\n",
              "\n",
              "  <div class=\"colab-df-container\">\n",
              "    <button class=\"colab-df-convert\" onclick=\"convertToInteractive('df-e5953e37-e4db-4e66-acf6-b4650bfb25b9')\"\n",
              "            title=\"Convert this dataframe to an interactive table.\"\n",
              "            style=\"display:none;\">\n",
              "\n",
              "  <svg xmlns=\"http://www.w3.org/2000/svg\" height=\"24px\" viewBox=\"0 -960 960 960\">\n",
              "    <path d=\"M120-120v-720h720v720H120Zm60-500h600v-160H180v160Zm220 220h160v-160H400v160Zm0 220h160v-160H400v160ZM180-400h160v-160H180v160Zm440 0h160v-160H620v160ZM180-180h160v-160H180v160Zm440 0h160v-160H620v160Z\"/>\n",
              "  </svg>\n",
              "    </button>\n",
              "\n",
              "  <style>\n",
              "    .colab-df-container {\n",
              "      display:flex;\n",
              "      gap: 12px;\n",
              "    }\n",
              "\n",
              "    .colab-df-convert {\n",
              "      background-color: #E8F0FE;\n",
              "      border: none;\n",
              "      border-radius: 50%;\n",
              "      cursor: pointer;\n",
              "      display: none;\n",
              "      fill: #1967D2;\n",
              "      height: 32px;\n",
              "      padding: 0 0 0 0;\n",
              "      width: 32px;\n",
              "    }\n",
              "\n",
              "    .colab-df-convert:hover {\n",
              "      background-color: #E2EBFA;\n",
              "      box-shadow: 0px 1px 2px rgba(60, 64, 67, 0.3), 0px 1px 3px 1px rgba(60, 64, 67, 0.15);\n",
              "      fill: #174EA6;\n",
              "    }\n",
              "\n",
              "    .colab-df-buttons div {\n",
              "      margin-bottom: 4px;\n",
              "    }\n",
              "\n",
              "    [theme=dark] .colab-df-convert {\n",
              "      background-color: #3B4455;\n",
              "      fill: #D2E3FC;\n",
              "    }\n",
              "\n",
              "    [theme=dark] .colab-df-convert:hover {\n",
              "      background-color: #434B5C;\n",
              "      box-shadow: 0px 1px 3px 1px rgba(0, 0, 0, 0.15);\n",
              "      filter: drop-shadow(0px 1px 2px rgba(0, 0, 0, 0.3));\n",
              "      fill: #FFFFFF;\n",
              "    }\n",
              "  </style>\n",
              "\n",
              "    <script>\n",
              "      const buttonEl =\n",
              "        document.querySelector('#df-e5953e37-e4db-4e66-acf6-b4650bfb25b9 button.colab-df-convert');\n",
              "      buttonEl.style.display =\n",
              "        google.colab.kernel.accessAllowed ? 'block' : 'none';\n",
              "\n",
              "      async function convertToInteractive(key) {\n",
              "        const element = document.querySelector('#df-e5953e37-e4db-4e66-acf6-b4650bfb25b9');\n",
              "        const dataTable =\n",
              "          await google.colab.kernel.invokeFunction('convertToInteractive',\n",
              "                                                    [key], {});\n",
              "        if (!dataTable) return;\n",
              "\n",
              "        const docLinkHtml = 'Like what you see? Visit the ' +\n",
              "          '<a target=\"_blank\" href=https://colab.research.google.com/notebooks/data_table.ipynb>data table notebook</a>'\n",
              "          + ' to learn more about interactive tables.';\n",
              "        element.innerHTML = '';\n",
              "        dataTable['output_type'] = 'display_data';\n",
              "        await google.colab.output.renderOutput(dataTable, element);\n",
              "        const docLink = document.createElement('div');\n",
              "        docLink.innerHTML = docLinkHtml;\n",
              "        element.appendChild(docLink);\n",
              "      }\n",
              "    </script>\n",
              "  </div>\n",
              "\n",
              "\n",
              "<div id=\"df-20e697cc-ef02-4c18-bcc9-4cbc4980e1ae\">\n",
              "  <button class=\"colab-df-quickchart\" onclick=\"quickchart('df-20e697cc-ef02-4c18-bcc9-4cbc4980e1ae')\"\n",
              "            title=\"Suggest charts\"\n",
              "            style=\"display:none;\">\n",
              "\n",
              "<svg xmlns=\"http://www.w3.org/2000/svg\" height=\"24px\"viewBox=\"0 0 24 24\"\n",
              "     width=\"24px\">\n",
              "    <g>\n",
              "        <path d=\"M19 3H5c-1.1 0-2 .9-2 2v14c0 1.1.9 2 2 2h14c1.1 0 2-.9 2-2V5c0-1.1-.9-2-2-2zM9 17H7v-7h2v7zm4 0h-2V7h2v10zm4 0h-2v-4h2v4z\"/>\n",
              "    </g>\n",
              "</svg>\n",
              "  </button>\n",
              "\n",
              "<style>\n",
              "  .colab-df-quickchart {\n",
              "      --bg-color: #E8F0FE;\n",
              "      --fill-color: #1967D2;\n",
              "      --hover-bg-color: #E2EBFA;\n",
              "      --hover-fill-color: #174EA6;\n",
              "      --disabled-fill-color: #AAA;\n",
              "      --disabled-bg-color: #DDD;\n",
              "  }\n",
              "\n",
              "  [theme=dark] .colab-df-quickchart {\n",
              "      --bg-color: #3B4455;\n",
              "      --fill-color: #D2E3FC;\n",
              "      --hover-bg-color: #434B5C;\n",
              "      --hover-fill-color: #FFFFFF;\n",
              "      --disabled-bg-color: #3B4455;\n",
              "      --disabled-fill-color: #666;\n",
              "  }\n",
              "\n",
              "  .colab-df-quickchart {\n",
              "    background-color: var(--bg-color);\n",
              "    border: none;\n",
              "    border-radius: 50%;\n",
              "    cursor: pointer;\n",
              "    display: none;\n",
              "    fill: var(--fill-color);\n",
              "    height: 32px;\n",
              "    padding: 0;\n",
              "    width: 32px;\n",
              "  }\n",
              "\n",
              "  .colab-df-quickchart:hover {\n",
              "    background-color: var(--hover-bg-color);\n",
              "    box-shadow: 0 1px 2px rgba(60, 64, 67, 0.3), 0 1px 3px 1px rgba(60, 64, 67, 0.15);\n",
              "    fill: var(--button-hover-fill-color);\n",
              "  }\n",
              "\n",
              "  .colab-df-quickchart-complete:disabled,\n",
              "  .colab-df-quickchart-complete:disabled:hover {\n",
              "    background-color: var(--disabled-bg-color);\n",
              "    fill: var(--disabled-fill-color);\n",
              "    box-shadow: none;\n",
              "  }\n",
              "\n",
              "  .colab-df-spinner {\n",
              "    border: 2px solid var(--fill-color);\n",
              "    border-color: transparent;\n",
              "    border-bottom-color: var(--fill-color);\n",
              "    animation:\n",
              "      spin 1s steps(1) infinite;\n",
              "  }\n",
              "\n",
              "  @keyframes spin {\n",
              "    0% {\n",
              "      border-color: transparent;\n",
              "      border-bottom-color: var(--fill-color);\n",
              "      border-left-color: var(--fill-color);\n",
              "    }\n",
              "    20% {\n",
              "      border-color: transparent;\n",
              "      border-left-color: var(--fill-color);\n",
              "      border-top-color: var(--fill-color);\n",
              "    }\n",
              "    30% {\n",
              "      border-color: transparent;\n",
              "      border-left-color: var(--fill-color);\n",
              "      border-top-color: var(--fill-color);\n",
              "      border-right-color: var(--fill-color);\n",
              "    }\n",
              "    40% {\n",
              "      border-color: transparent;\n",
              "      border-right-color: var(--fill-color);\n",
              "      border-top-color: var(--fill-color);\n",
              "    }\n",
              "    60% {\n",
              "      border-color: transparent;\n",
              "      border-right-color: var(--fill-color);\n",
              "    }\n",
              "    80% {\n",
              "      border-color: transparent;\n",
              "      border-right-color: var(--fill-color);\n",
              "      border-bottom-color: var(--fill-color);\n",
              "    }\n",
              "    90% {\n",
              "      border-color: transparent;\n",
              "      border-bottom-color: var(--fill-color);\n",
              "    }\n",
              "  }\n",
              "</style>\n",
              "\n",
              "  <script>\n",
              "    async function quickchart(key) {\n",
              "      const quickchartButtonEl =\n",
              "        document.querySelector('#' + key + ' button');\n",
              "      quickchartButtonEl.disabled = true;  // To prevent multiple clicks.\n",
              "      quickchartButtonEl.classList.add('colab-df-spinner');\n",
              "      try {\n",
              "        const charts = await google.colab.kernel.invokeFunction(\n",
              "            'suggestCharts', [key], {});\n",
              "      } catch (error) {\n",
              "        console.error('Error during call to suggestCharts:', error);\n",
              "      }\n",
              "      quickchartButtonEl.classList.remove('colab-df-spinner');\n",
              "      quickchartButtonEl.classList.add('colab-df-quickchart-complete');\n",
              "    }\n",
              "    (() => {\n",
              "      let quickchartButtonEl =\n",
              "        document.querySelector('#df-20e697cc-ef02-4c18-bcc9-4cbc4980e1ae button');\n",
              "      quickchartButtonEl.style.display =\n",
              "        google.colab.kernel.accessAllowed ? 'block' : 'none';\n",
              "    })();\n",
              "  </script>\n",
              "</div>\n",
              "\n",
              "    </div>\n",
              "  </div>\n"
            ],
            "application/vnd.google.colaboratory.intrinsic+json": {
              "type": "dataframe",
              "variable_name": "data"
            }
          },
          "metadata": {},
          "execution_count": 3
        }
      ],
      "source": [
        "# Load dataset here\n",
        "data = pd.read_csv(\"olympics_dataset.csv\")\n",
        "data.head()"
      ]
    },
    {
      "cell_type": "markdown",
      "metadata": {
        "id": "fuOEjaSBzJMn"
      },
      "source": [
        "1. Сколько спортсменов участвовали в Летних Олимпийских играх за всё время?"
      ]
    },
    {
      "cell_type": "code",
      "execution_count": 16,
      "metadata": {
        "id": "W0NVQaWEzcrj",
        "colab": {
          "base_uri": "https://localhost:8080/"
        },
        "outputId": "5aded223-3337-418a-f3d9-d062d53cfe41"
      },
      "outputs": [
        {
          "output_type": "stream",
          "name": "stdout",
          "text": [
            "Количество спортсменов в Летних Олимпийских играх: 129992\n"
          ]
        }
      ],
      "source": [
        "summer_df = data[data['Season'] == 'Summer']\n",
        "unique_athletes = summer_df['Name'].nunique()\n",
        "print(f\"Количество спортсменов в Летних Олимпийских играх: {unique_athletes}\")"
      ]
    },
    {
      "cell_type": "markdown",
      "metadata": {
        "id": "NgqBXyjAzdC1"
      },
      "source": [
        "2. Найдите участника с наибольшим количеством медалей"
      ]
    },
    {
      "cell_type": "code",
      "execution_count": 15,
      "metadata": {
        "id": "_BgXSSrAzgJr",
        "colab": {
          "base_uri": "https://localhost:8080/"
        },
        "outputId": "b228671a-f857-472b-c476-579f89307d64"
      },
      "outputs": [
        {
          "output_type": "stream",
          "name": "stdout",
          "text": [
            "Спортсмен с наибольшим количеством медалей: Michael Ii (28 медалей)\n"
          ]
        }
      ],
      "source": [
        "summer_df = data[data['Season'] == 'Summer']\n",
        "medalists = summer_df[summer_df['Medal'] != 'No medal']\n",
        "most_medals_athlete = medalists['Name'].value_counts().idxmax()\n",
        "most_medals_count = medalists['Name'].value_counts().max()\n",
        "print(f\"Спортсмен с наибольшим количеством медалей: {most_medals_athlete} ({most_medals_count} медалей)\")"
      ]
    },
    {
      "cell_type": "markdown",
      "metadata": {
        "id": "hAITny41zgjO"
      },
      "source": [
        "3. Какой спорт является самым популярным, то есть в нём участвовало больше всего спортсменов за всё время?"
      ]
    },
    {
      "cell_type": "code",
      "execution_count": 11,
      "metadata": {
        "id": "3aG36MWizmVa",
        "colab": {
          "base_uri": "https://localhost:8080/"
        },
        "outputId": "567adebf-5da2-48d1-ede9-d98307f4bd1b"
      },
      "outputs": [
        {
          "output_type": "stream",
          "name": "stdout",
          "text": [
            "Самый популярный спорт: Athletics\n"
          ]
        }
      ],
      "source": [
        "summer_df = data[data['Season'] == 'Summer']\n",
        "most_popular_sport = summer_df['Sport'].value_counts().idxmax()\n",
        "print(f\"Самый популярный спорт: {most_popular_sport}\")"
      ]
    },
    {
      "cell_type": "markdown",
      "metadata": {
        "id": "8AU6Qj1nzmo9"
      },
      "source": [
        "4. Кто был победителем медального зачёта в 2004 году?"
      ]
    },
    {
      "cell_type": "code",
      "execution_count": 12,
      "metadata": {
        "id": "VU9cUVwCzr4v",
        "colab": {
          "base_uri": "https://localhost:8080/"
        },
        "outputId": "44ce2b8c-2f99-4d71-f9c8-2a82921636f2"
      },
      "outputs": [
        {
          "output_type": "stream",
          "name": "stdout",
          "text": [
            "Победитель медального зачёта в 2004 году: United States\n"
          ]
        }
      ],
      "source": [
        "summer_df = data[data['Season'] == 'Summer']\n",
        "df_2004 = summer_df[summer_df['Year'] == 2004]\n",
        "gold_by_team = df_2004[df_2004['Medal'] == 'Gold']['Team'].value_counts()\n",
        "winner_2004 = gold_by_team.idxmax()\n",
        "print(f\"Победитель медального зачёта в 2004 году: {winner_2004}\")"
      ]
    },
    {
      "cell_type": "markdown",
      "metadata": {
        "id": "WW5dyJHlzsMS"
      },
      "source": [
        "5. В каком виде спорта США завоевало наибольшее число медалей?"
      ]
    },
    {
      "cell_type": "code",
      "execution_count": 13,
      "metadata": {
        "id": "VStk_FqV1RMW",
        "colab": {
          "base_uri": "https://localhost:8080/"
        },
        "outputId": "7e6f9a90-afb2-4e74-a9ad-72053502b309"
      },
      "outputs": [
        {
          "output_type": "stream",
          "name": "stdout",
          "text": [
            "Вид спорта с наибольшим числом медалей для США: Athletics\n"
          ]
        }
      ],
      "source": [
        "summer_df = data[data['Season'] == 'Summer']\n",
        "usa_medals = summer_df[summer_df['Team'] == 'United States']\n",
        "top_usa_sport = usa_medals['Sport'].value_counts().idxmax()\n",
        "print(f\"Вид спорта с наибольшим числом медалей для США: {top_usa_sport}\")\n"
      ]
    },
    {
      "cell_type": "markdown",
      "metadata": {
        "id": "mqT-RjT5ymfJ"
      },
      "source": [
        "# С помощью графика покажите:"
      ]
    },
    {
      "cell_type": "markdown",
      "metadata": {
        "id": "KrawmUwtERK0"
      },
      "source": [
        "6. Сколько женщин и мужчин участвовало в Летних Олимпийских играх каждый год?"
      ]
    },
    {
      "cell_type": "code",
      "execution_count": 38,
      "metadata": {
        "id": "xIDuYWxLEZty",
        "colab": {
          "base_uri": "https://localhost:8080/",
          "height": 586
        },
        "outputId": "d078136c-81be-4fda-bd95-e65163badf47"
      },
      "outputs": [
        {
          "output_type": "display_data",
          "data": {
            "text/plain": [
              "<Figure size 1200x600 with 1 Axes>"
            ],
            "image/png": "[encoded data removed]"
          },
          "metadata": {}
        }
      ],
      "source": [
        "import matplotlib.pyplot as plt\n",
        "import seaborn as sns\n",
        "summer_df = data[data['Season'] == 'Summer']\n",
        "gender_by_year = summer_df.groupby(['Year', 'Sex'])['Name'].nunique().unstack()\n",
        "gender_by_year.plot(kind='bar', stacked=True, figsize=(12, 6), color=['skyblue', 'pink'])\n",
        "plt.title(\"Количество мужчин и женщин в Летних Олимпийских играх по годам\")\n",
        "plt.xlabel(\"Год\")\n",
        "plt.ylabel(\"Количество участников\")\n",
        "plt.legend([\"Мужчины\", \"Женщины\"])\n",
        "plt.show()"
      ]
    },
    {
      "cell_type": "markdown",
      "metadata": {
        "id": "Vd7kfuEeEZSr"
      },
      "source": [
        "7. Какие 10 стран на текущий момент имеют наибольшее количество золотых медалей?\n"
      ]
    },
    {
      "cell_type": "code",
      "execution_count": 37,
      "metadata": {
        "id": "weNY9z0NFb4c",
        "colab": {
          "base_uri": "https://localhost:8080/",
          "height": 564
        },
        "outputId": "2792de0d-b1f2-43a4-ca8d-ca980f94a3f1"
      },
      "outputs": [
        {
          "output_type": "display_data",
          "data": {
            "text/plain": [
              "<Figure size 1200x600 with 1 Axes>"
            ],
            "image/png": "[encoded data removed]"
          },
          "metadata": {}
        }
      ],
      "source": [
        "import matplotlib.pyplot as plt\n",
        "import seaborn as sns\n",
        "\n",
        "summer_df = data[data['Season'] == 'Summer']\n",
        "gold_medals = summer_df[summer_df['Medal'] == 'Gold']\n",
        "gold_medals_by_country = gold_medals['NOC'].value_counts()\n",
        "top_10_countries = gold_medals_by_country.head(10)\n",
        "plt.figure(figsize=(12, 6))\n",
        "sns.barplot(x=top_10_countries.values, y=top_10_countries.index, hue=top_10_countries.index, palette=\"viridis\", legend=False)\n",
        "plt.title(\"10 стран с наибольшим количеством золотых медалей\")\n",
        "plt.xlabel(\"Количество золотых медалей\")\n",
        "plt.ylabel(\"Страна (NOC)\")\n",
        "plt.show()"
      ]
    },
    {
      "cell_type": "markdown",
      "metadata": {
        "id": "SlRCGFkXFbBq"
      },
      "source": [
        "8. Сколько золотых, серебряных и бронзовых медалей зарабатывал СССР отдельно по каждым играм?"
      ]
    },
    {
      "cell_type": "code",
      "execution_count": 34,
      "metadata": {
        "id": "SzrdxQhaF7gT",
        "colab": {
          "base_uri": "https://localhost:8080/",
          "height": 586
        },
        "outputId": "1edac842-7b6c-4ece-f4af-88f8ac7c1512"
      },
      "outputs": [
        {
          "output_type": "display_data",
          "data": {
            "text/plain": [
              "<Figure size 1200x600 with 1 Axes>"
            ],
            "image/png": "[encoded data removed]"
          },
          "metadata": {}
        }
      ],
      "source": [
        "import matplotlib.pyplot as plt\n",
        "import seaborn as sns\n",
        "summer_df = data[data['Season'] == 'Summer']\n",
        "# Проверим, есть ли записи с СССР\n",
        "ussr_medals = summer_df[summer_df['Team'] == 'Soviet Union']\n",
        "ussr_medal_counts = ussr_medals.pivot_table(index='Year', columns='Medal', values='Name', aggfunc='count', fill_value=0)\n",
        "ussr_medal_counts.plot(kind='bar', figsize=(12, 6), color=['gold', 'silver', 'brown'])\n",
        "plt.title(\"Медали СССР по годам\")\n",
        "plt.xlabel(\"Год\")\n",
        "plt.ylabel(\"Количество медалей\")\n",
        "plt.legend([\"Золотые\", \"Серебряные\", \"Бронзовые\"])\n",
        "plt.show()"
      ]
    },
    {
      "cell_type": "markdown",
      "metadata": {
        "id": "L7Nnrghyy07f"
      },
      "source": [
        "9. Сколько медалей завоёвывали спортсмены и спортсменки (отдельно) команды Китая на каждой олимпиаде?\n"
      ]
    },
    {
      "cell_type": "code",
      "execution_count": 35,
      "metadata": {
        "id": "IjMC9RULy0tE",
        "colab": {
          "base_uri": "https://localhost:8080/",
          "height": 586
        },
        "outputId": "cb14e865-5534-415e-de3b-2962615f0253"
      },
      "outputs": [
        {
          "output_type": "display_data",
          "data": {
            "text/plain": [
              "<Figure size 1200x600 with 1 Axes>"
            ],
            "image/png": "[encoded data removed]"
          },
          "metadata": {}
        }
      ],
      "source": [
        "import matplotlib.pyplot as plt\n",
        "import seaborn as sns\n",
        "summer_df = data[data['Season'] == 'Summer']\n",
        "china_medals = summer_df[summer_df['Team'] == 'China']\n",
        "china_gender_medals = china_medals.pivot_table(index='Year', columns=['Sex', 'Medal'], values='Name', aggfunc='count', fill_value=0)\n",
        "china_gender_medals.plot(kind='bar', figsize=(12, 6))\n",
        "plt.title(\"Медали мужчин и женщин из Китая по годам\")\n",
        "plt.xlabel(\"Год\")\n",
        "plt.ylabel(\"Количество медалей\")\n",
        "plt.show()"
      ]
    },
    {
      "cell_type": "markdown",
      "metadata": {
        "id": "YM5LH2-Xyz5A"
      },
      "source": [
        "10. Какие 10 стран имеют наибольшее количество участников, не получивших никаких медалей ни на одной из Летних олимпиад?"
      ]
    },
    {
      "cell_type": "code",
      "execution_count": 36,
      "metadata": {
        "id": "QF1-5fg3y1SY",
        "colab": {
          "base_uri": "https://localhost:8080/",
          "height": 644
        },
        "outputId": "b08e12ce-f597-4733-fb87-ecb88f3f3fb2"
      },
      "outputs": [
        {
          "output_type": "display_data",
          "data": {
            "text/plain": [
              "<Figure size 1200x600 with 1 Axes>"
            ],
            "image/png": "[encoded data removed]"
          },
          "metadata": {}
        }
      ],
      "source": [
        "import matplotlib.pyplot as plt\n",
        "import seaborn as sns\n",
        "summer_df = data[data['Season'] == 'Summer']\n",
        "no_medals = summer_df[summer_df['Medal'] == 'No medal']\n",
        "no_medal_counts = no_medals.groupby('Team')['Name'].nunique().nlargest(10)\n",
        "no_medal_counts.plot(kind='bar', figsize=(12, 6), color='gray')\n",
        "plt.title(\"Топ-10 стран по количеству участников без медалей\")\n",
        "plt.xlabel(\"Страна\")\n",
        "plt.ylabel(\"Количество участников без медалей\")\n",
        "plt.show()"
      ]
    }
  ],
  "metadata": {
    "colab": {
      "provenance": []
    },
    "kernelspec": {
      "display_name": "Python 3 (ipykernel)",
      "language": "python",
      "name": "python3"
    },
    "language_info": {
      "codemirror_mode": {
        "name": "ipython",
        "version": 3
      },
      "file_extension": ".py",
      "mimetype": "text/x-python",
      "name": "python",
      "nbconvert_exporter": "python",
      "pygments_lexer": "ipython3",
      "version": "3.11.7"
    }
  },
  "nbformat": 4,
  "nbformat_minor": 0
}